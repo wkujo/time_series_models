{
 "cells": [
  {
   "cell_type": "code",
   "execution_count": 1,
   "metadata": {},
   "outputs": [],
   "source": [
    "import pandas as pd\n",
    "import numpy as np\n",
    "import os\n",
    "from os import getcwd\n",
    "import matplotlib.pyplot as plt\n",
    "\n",
    "import tensorflow as tf"
   ]
  },
  {
   "cell_type": "code",
   "execution_count": 2,
   "metadata": {},
   "outputs": [],
   "source": [
    "dateparser = lambda x: pd.datetime.strptime(x, \"%Y-%m-%d\")\n",
    "\n",
    "df = pd.read_csv(getcwd()+\"\\\\Stocks\\\\a.us.txt\", parse_dates=['Date'], date_parser=dateparser)"
   ]
  },
  {
   "cell_type": "code",
   "execution_count": 3,
   "metadata": {},
   "outputs": [
    {
     "data": {
      "text/html": [
       "<div>\n",
       "<style scoped>\n",
       "    .dataframe tbody tr th:only-of-type {\n",
       "        vertical-align: middle;\n",
       "    }\n",
       "\n",
       "    .dataframe tbody tr th {\n",
       "        vertical-align: top;\n",
       "    }\n",
       "\n",
       "    .dataframe thead th {\n",
       "        text-align: right;\n",
       "    }\n",
       "</style>\n",
       "<table border=\"1\" class=\"dataframe\">\n",
       "  <thead>\n",
       "    <tr style=\"text-align: right;\">\n",
       "      <th></th>\n",
       "      <th>Date</th>\n",
       "      <th>Open</th>\n",
       "      <th>High</th>\n",
       "      <th>Low</th>\n",
       "      <th>Close</th>\n",
       "      <th>Volume</th>\n",
       "      <th>OpenInt</th>\n",
       "    </tr>\n",
       "  </thead>\n",
       "  <tbody>\n",
       "    <tr>\n",
       "      <td>0</td>\n",
       "      <td>1999-11-18</td>\n",
       "      <td>30.713</td>\n",
       "      <td>33.754</td>\n",
       "      <td>27.002</td>\n",
       "      <td>29.702</td>\n",
       "      <td>66277506</td>\n",
       "      <td>0</td>\n",
       "    </tr>\n",
       "    <tr>\n",
       "      <td>1</td>\n",
       "      <td>1999-11-19</td>\n",
       "      <td>28.986</td>\n",
       "      <td>29.027</td>\n",
       "      <td>26.872</td>\n",
       "      <td>27.257</td>\n",
       "      <td>16142920</td>\n",
       "      <td>0</td>\n",
       "    </tr>\n",
       "    <tr>\n",
       "      <td>2</td>\n",
       "      <td>1999-11-22</td>\n",
       "      <td>27.886</td>\n",
       "      <td>29.702</td>\n",
       "      <td>27.044</td>\n",
       "      <td>29.702</td>\n",
       "      <td>6970266</td>\n",
       "      <td>0</td>\n",
       "    </tr>\n",
       "    <tr>\n",
       "      <td>3</td>\n",
       "      <td>1999-11-23</td>\n",
       "      <td>28.688</td>\n",
       "      <td>29.446</td>\n",
       "      <td>27.002</td>\n",
       "      <td>27.002</td>\n",
       "      <td>6332082</td>\n",
       "      <td>0</td>\n",
       "    </tr>\n",
       "    <tr>\n",
       "      <td>4</td>\n",
       "      <td>1999-11-24</td>\n",
       "      <td>27.083</td>\n",
       "      <td>28.309</td>\n",
       "      <td>27.002</td>\n",
       "      <td>27.717</td>\n",
       "      <td>5132147</td>\n",
       "      <td>0</td>\n",
       "    </tr>\n",
       "  </tbody>\n",
       "</table>\n",
       "</div>"
      ],
      "text/plain": [
       "        Date    Open    High     Low   Close    Volume  OpenInt\n",
       "0 1999-11-18  30.713  33.754  27.002  29.702  66277506        0\n",
       "1 1999-11-19  28.986  29.027  26.872  27.257  16142920        0\n",
       "2 1999-11-22  27.886  29.702  27.044  29.702   6970266        0\n",
       "3 1999-11-23  28.688  29.446  27.002  27.002   6332082        0\n",
       "4 1999-11-24  27.083  28.309  27.002  27.717   5132147        0"
      ]
     },
     "execution_count": 3,
     "metadata": {},
     "output_type": "execute_result"
    }
   ],
   "source": [
    "df.head()"
   ]
  },
  {
   "cell_type": "code",
   "execution_count": 4,
   "metadata": {},
   "outputs": [
    {
     "data": {
      "text/plain": [
       "4521"
      ]
     },
     "execution_count": 4,
     "metadata": {},
     "output_type": "execute_result"
    }
   ],
   "source": [
    "len(df)"
   ]
  },
  {
   "cell_type": "markdown",
   "metadata": {},
   "source": [
    "# Predict High(t) given last 20 High,Open,Low"
   ]
  },
  {
   "cell_type": "code",
   "execution_count": 25,
   "metadata": {},
   "outputs": [],
   "source": [
    "data = df[['High', 'Open', 'Low']]"
   ]
  },
  {
   "cell_type": "code",
   "execution_count": 26,
   "metadata": {},
   "outputs": [
    {
     "data": {
      "text/html": [
       "<div>\n",
       "<style scoped>\n",
       "    .dataframe tbody tr th:only-of-type {\n",
       "        vertical-align: middle;\n",
       "    }\n",
       "\n",
       "    .dataframe tbody tr th {\n",
       "        vertical-align: top;\n",
       "    }\n",
       "\n",
       "    .dataframe thead th {\n",
       "        text-align: right;\n",
       "    }\n",
       "</style>\n",
       "<table border=\"1\" class=\"dataframe\">\n",
       "  <thead>\n",
       "    <tr style=\"text-align: right;\">\n",
       "      <th></th>\n",
       "      <th>High</th>\n",
       "      <th>Open</th>\n",
       "      <th>Low</th>\n",
       "    </tr>\n",
       "  </thead>\n",
       "  <tbody>\n",
       "    <tr>\n",
       "      <td>0</td>\n",
       "      <td>33.754</td>\n",
       "      <td>30.713</td>\n",
       "      <td>27.002</td>\n",
       "    </tr>\n",
       "    <tr>\n",
       "      <td>1</td>\n",
       "      <td>29.027</td>\n",
       "      <td>28.986</td>\n",
       "      <td>26.872</td>\n",
       "    </tr>\n",
       "    <tr>\n",
       "      <td>2</td>\n",
       "      <td>29.702</td>\n",
       "      <td>27.886</td>\n",
       "      <td>27.044</td>\n",
       "    </tr>\n",
       "    <tr>\n",
       "      <td>3</td>\n",
       "      <td>29.446</td>\n",
       "      <td>28.688</td>\n",
       "      <td>27.002</td>\n",
       "    </tr>\n",
       "    <tr>\n",
       "      <td>4</td>\n",
       "      <td>28.309</td>\n",
       "      <td>27.083</td>\n",
       "      <td>27.002</td>\n",
       "    </tr>\n",
       "  </tbody>\n",
       "</table>\n",
       "</div>"
      ],
      "text/plain": [
       "     High    Open     Low\n",
       "0  33.754  30.713  27.002\n",
       "1  29.027  28.986  26.872\n",
       "2  29.702  27.886  27.044\n",
       "3  29.446  28.688  27.002\n",
       "4  28.309  27.083  27.002"
      ]
     },
     "execution_count": 26,
     "metadata": {},
     "output_type": "execute_result"
    }
   ],
   "source": [
    "data.head()"
   ]
  },
  {
   "cell_type": "code",
   "execution_count": 27,
   "metadata": {},
   "outputs": [],
   "source": [
    "# change time series data into supervised dataset looking back n_past number of points\n",
    "def create_datasets(series, n_past):\n",
    "    data = []\n",
    "    target = []\n",
    "    \n",
    "    for i in range(len(series) - n_past - 1):\n",
    "        \n",
    "        indicies = range(i,n_past+i)\n",
    "        \n",
    "        data.append(series[indicies])\n",
    "        target.append(series[n_past+i])\n",
    "        \n",
    "    return np.array(data), np.array(target)"
   ]
  },
  {
   "cell_type": "code",
   "execution_count": 28,
   "metadata": {},
   "outputs": [],
   "source": [
    "# randomize data + target together along axis=0\n",
    "def randomize_data(data, target):\n",
    "    tmp = np.concatenate((data, target), axis=1)\n",
    "    \n",
    "    np.random.seed(101)\n",
    "    np.random.shuffle(tmp)\n",
    "    \n",
    "    tmp_data = tmp[:, :-1]\n",
    "    tmp_target = tmp[:, -1]\n",
    "    \n",
    "    return tmp_data, tmp_target"
   ]
  },
  {
   "cell_type": "code",
   "execution_count": 29,
   "metadata": {},
   "outputs": [],
   "source": [
    "window_size = 20\n",
    "num_feat = 3\n",
    "\n",
    "data, target = create_datasets(data.values, window_size)"
   ]
  },
  {
   "cell_type": "code",
   "execution_count": 30,
   "metadata": {},
   "outputs": [
    {
     "data": {
      "text/plain": [
       "((4500, 20, 3), (4500, 3))"
      ]
     },
     "execution_count": 30,
     "metadata": {},
     "output_type": "execute_result"
    }
   ],
   "source": [
    "data.shape, target.shape"
   ]
  },
  {
   "cell_type": "code",
   "execution_count": 31,
   "metadata": {},
   "outputs": [],
   "source": [
    "# only looking to predict High\n",
    "target = target[:, 0].reshape((target.shape[0], 1))"
   ]
  },
  {
   "cell_type": "code",
   "execution_count": 32,
   "metadata": {},
   "outputs": [
    {
     "data": {
      "text/plain": [
       "(array([31.808]), (4500, 1))"
      ]
     },
     "execution_count": 32,
     "metadata": {},
     "output_type": "execute_result"
    }
   ],
   "source": [
    "target[0], target.shape"
   ]
  },
  {
   "cell_type": "code",
   "execution_count": 33,
   "metadata": {},
   "outputs": [
    {
     "data": {
      "text/plain": [
       "((4500, 60), (4500,))"
      ]
     },
     "execution_count": 33,
     "metadata": {},
     "output_type": "execute_result"
    }
   ],
   "source": [
    "data = data.reshape((data.shape[0], window_size*num_feat))\n",
    "data, target = randomize_data(data, target)\n",
    "data.shape, target.shape"
   ]
  },
  {
   "cell_type": "code",
   "execution_count": 34,
   "metadata": {},
   "outputs": [],
   "source": [
    "target = target.reshape((target.shape[0], 1))"
   ]
  },
  {
   "cell_type": "code",
   "execution_count": 35,
   "metadata": {},
   "outputs": [],
   "source": [
    "TRAIN_SPLIT = int(data.shape[0] * 0.8)"
   ]
  },
  {
   "cell_type": "code",
   "execution_count": 36,
   "metadata": {},
   "outputs": [],
   "source": [
    "from sklearn.preprocessing import MinMaxScaler"
   ]
  },
  {
   "cell_type": "code",
   "execution_count": 37,
   "metadata": {},
   "outputs": [],
   "source": [
    "scaler_data = MinMaxScaler()\n",
    "scaler_target = MinMaxScaler()"
   ]
  },
  {
   "cell_type": "code",
   "execution_count": 38,
   "metadata": {},
   "outputs": [],
   "source": [
    "x_train = data[:TRAIN_SPLIT]\n",
    "x_val = data[TRAIN_SPLIT:]\n",
    "\n",
    "y_train = target[:TRAIN_SPLIT]\n",
    "y_val = target[TRAIN_SPLIT:]"
   ]
  },
  {
   "cell_type": "code",
   "execution_count": 39,
   "metadata": {},
   "outputs": [],
   "source": [
    "x_train = scaler_data.fit_transform(x_train)\n",
    "x_val = scaler_data.transform(x_val)"
   ]
  },
  {
   "cell_type": "code",
   "execution_count": 40,
   "metadata": {},
   "outputs": [],
   "source": [
    "y_train = scaler_target.fit_transform(y_train)\n",
    "y_val = scaler_target.transform(y_val)"
   ]
  },
  {
   "cell_type": "code",
   "execution_count": 41,
   "metadata": {},
   "outputs": [
    {
     "data": {
      "text/plain": [
       "array([0.33711251, 0.34816455, 0.36581154, 0.32646155, 0.34878182,\n",
       "       0.37399047, 0.32263262, 0.33802965, 0.36041466, 0.31985419,\n",
       "       0.33318651, 0.3723432 , 0.32175308, 0.3368571 , 0.36140592,\n",
       "       0.31928476, 0.33267671, 0.35138314, 0.31478999, 0.32805355,\n",
       "       0.35249989, 0.31436235, 0.32640612, 0.3503258 , 0.31210796,\n",
       "       0.32874882, 0.34849583, 0.31646974, 0.32778259, 0.35419172,\n",
       "       0.31448556, 0.33643497, 0.36809918, 0.31364935, 0.32593932,\n",
       "       0.34704042, 0.30543188, 0.31899404, 0.35551357, 0.30714017,\n",
       "       0.31976847, 0.34463154, 0.30704199, 0.32144062, 0.34397069,\n",
       "       0.31147658, 0.32183827, 0.3482882 , 0.32367195, 0.32860627,\n",
       "       0.34581004, 0.309035  , 0.32871038, 0.34838732, 0.30848521,\n",
       "       0.32272533, 0.35839858, 0.31303205, 0.31855513, 0.35405161])"
      ]
     },
     "execution_count": 41,
     "metadata": {},
     "output_type": "execute_result"
    }
   ],
   "source": [
    "x_train[0]"
   ]
  },
  {
   "cell_type": "code",
   "execution_count": 42,
   "metadata": {},
   "outputs": [
    {
     "data": {
      "text/plain": [
       "(3600, 60)"
      ]
     },
     "execution_count": 42,
     "metadata": {},
     "output_type": "execute_result"
    }
   ],
   "source": [
    "x_train.shape"
   ]
  },
  {
   "cell_type": "code",
   "execution_count": 43,
   "metadata": {},
   "outputs": [],
   "source": [
    "x_train = x_train.reshape((TRAIN_SPLIT, window_size, num_feat))\n",
    "x_val = x_val.reshape((len(data) - TRAIN_SPLIT, window_size, num_feat))"
   ]
  },
  {
   "cell_type": "code",
   "execution_count": 44,
   "metadata": {},
   "outputs": [
    {
     "data": {
      "text/plain": [
       "((3600, 1), (900, 1))"
      ]
     },
     "execution_count": 44,
     "metadata": {},
     "output_type": "execute_result"
    }
   ],
   "source": [
    "y_train.shape, y_val.shape"
   ]
  },
  {
   "cell_type": "code",
   "execution_count": 45,
   "metadata": {},
   "outputs": [
    {
     "data": {
      "text/plain": [
       "((3600, 20, 3), (900, 20, 3))"
      ]
     },
     "execution_count": 45,
     "metadata": {},
     "output_type": "execute_result"
    }
   ],
   "source": [
    "x_train.shape, x_val.shape"
   ]
  },
  {
   "cell_type": "code",
   "execution_count": 46,
   "metadata": {},
   "outputs": [
    {
     "name": "stdout",
     "output_type": "stream",
     "text": [
      "Epoch 1/50\n",
      "113/113 - 2s - loss: 0.0251 - val_loss: 0.0114\n",
      "Epoch 2/50\n",
      "113/113 - 1s - loss: 0.0117 - val_loss: 0.0125\n",
      "Epoch 3/50\n",
      "113/113 - 1s - loss: 0.0106 - val_loss: 0.0102\n",
      "Epoch 4/50\n",
      "113/113 - 1s - loss: 0.0100 - val_loss: 0.0085\n",
      "Epoch 5/50\n",
      "113/113 - 1s - loss: 0.0090 - val_loss: 0.0075\n",
      "Epoch 6/50\n",
      "113/113 - 1s - loss: 0.0087 - val_loss: 0.0067\n",
      "Epoch 7/50\n",
      "113/113 - 1s - loss: 0.0080 - val_loss: 0.0064\n",
      "Epoch 8/50\n",
      "113/113 - 1s - loss: 0.0081 - val_loss: 0.0077\n",
      "Epoch 9/50\n",
      "113/113 - 1s - loss: 0.0074 - val_loss: 0.0074\n",
      "Epoch 10/50\n",
      "113/113 - 1s - loss: 0.0070 - val_loss: 0.0088\n",
      "Epoch 11/50\n",
      "113/113 - 1s - loss: 0.0071 - val_loss: 0.0079\n",
      "Epoch 12/50\n",
      "113/113 - 1s - loss: 0.0072 - val_loss: 0.0102\n",
      "Epoch 13/50\n",
      "113/113 - 1s - loss: 0.0072 - val_loss: 0.0085\n",
      "Epoch 14/50\n",
      "113/113 - 1s - loss: 0.0072 - val_loss: 0.0084\n",
      "Epoch 15/50\n",
      "113/113 - 1s - loss: 0.0066 - val_loss: 0.0056\n",
      "Epoch 16/50\n",
      "113/113 - 1s - loss: 0.0066 - val_loss: 0.0074\n",
      "Epoch 17/50\n",
      "113/113 - 1s - loss: 0.0067 - val_loss: 0.0064\n",
      "Epoch 18/50\n",
      "113/113 - 1s - loss: 0.0063 - val_loss: 0.0056\n",
      "Epoch 19/50\n",
      "113/113 - 1s - loss: 0.0060 - val_loss: 0.0054\n",
      "Epoch 20/50\n",
      "113/113 - 1s - loss: 0.0063 - val_loss: 0.0049\n",
      "Epoch 21/50\n",
      "113/113 - 1s - loss: 0.0055 - val_loss: 0.0052\n",
      "Epoch 22/50\n",
      "113/113 - 1s - loss: 0.0059 - val_loss: 0.0056\n",
      "Epoch 23/50\n",
      "113/113 - 1s - loss: 0.0058 - val_loss: 0.0055\n",
      "Epoch 24/50\n",
      "113/113 - 1s - loss: 0.0062 - val_loss: 0.0069\n",
      "Epoch 25/50\n",
      "113/113 - 1s - loss: 0.0057 - val_loss: 0.0071\n",
      "Epoch 26/50\n",
      "113/113 - 1s - loss: 0.0055 - val_loss: 0.0048\n",
      "Epoch 27/50\n",
      "113/113 - 1s - loss: 0.0055 - val_loss: 0.0046\n",
      "Epoch 28/50\n",
      "113/113 - 1s - loss: 0.0058 - val_loss: 0.0046\n",
      "Epoch 29/50\n",
      "113/113 - 1s - loss: 0.0054 - val_loss: 0.0045\n",
      "Epoch 30/50\n",
      "113/113 - 1s - loss: 0.0057 - val_loss: 0.0049\n",
      "Epoch 31/50\n",
      "113/113 - 1s - loss: 0.0056 - val_loss: 0.0058\n",
      "Epoch 32/50\n",
      "113/113 - 1s - loss: 0.0055 - val_loss: 0.0045\n",
      "Epoch 33/50\n",
      "113/113 - 1s - loss: 0.0058 - val_loss: 0.0045\n",
      "Epoch 34/50\n",
      "113/113 - 1s - loss: 0.0051 - val_loss: 0.0044\n",
      "Epoch 35/50\n",
      "113/113 - 1s - loss: 0.0051 - val_loss: 0.0045\n",
      "Epoch 36/50\n",
      "113/113 - 1s - loss: 0.0058 - val_loss: 0.0047\n",
      "Epoch 37/50\n",
      "113/113 - 1s - loss: 0.0052 - val_loss: 0.0046\n",
      "Epoch 38/50\n",
      "113/113 - 1s - loss: 0.0048 - val_loss: 0.0047\n",
      "Epoch 39/50\n",
      "113/113 - 1s - loss: 0.0051 - val_loss: 0.0051\n",
      "Epoch 40/50\n",
      "113/113 - 1s - loss: 0.0054 - val_loss: 0.0104\n",
      "Epoch 41/50\n",
      "113/113 - 1s - loss: 0.0056 - val_loss: 0.0044\n",
      "Epoch 42/50\n",
      "113/113 - 1s - loss: 0.0050 - val_loss: 0.0042\n",
      "Epoch 43/50\n",
      "113/113 - 1s - loss: 0.0053 - val_loss: 0.0045\n",
      "Epoch 44/50\n",
      "113/113 - 1s - loss: 0.0047 - val_loss: 0.0045\n",
      "Epoch 45/50\n",
      "113/113 - 1s - loss: 0.0052 - val_loss: 0.0054\n",
      "Epoch 46/50\n",
      "113/113 - 1s - loss: 0.0049 - val_loss: 0.0048\n",
      "Epoch 47/50\n",
      "113/113 - 1s - loss: 0.0051 - val_loss: 0.0063\n",
      "Epoch 48/50\n",
      "113/113 - 1s - loss: 0.0048 - val_loss: 0.0050\n",
      "Epoch 49/50\n",
      "113/113 - 1s - loss: 0.0049 - val_loss: 0.0043\n",
      "Epoch 50/50\n",
      "113/113 - 1s - loss: 0.0049 - val_loss: 0.0043\n"
     ]
    }
   ],
   "source": [
    "model = tf.keras.models.Sequential([\n",
    "    tf.keras.layers.Bidirectional(tf.keras.layers.LSTM(window_size, input_shape=(window_size, num_feat), return_sequences=True)),\n",
    "    tf.keras.layers.Bidirectional(tf.keras.layers.LSTM(window_size)),\n",
    "    tf.keras.layers.Dense(units=20, activation='relu'),\n",
    "    tf.keras.layers.Dense(units=10, activation='relu'),\n",
    "    tf.keras.layers.Dense(units=1)\n",
    "])\n",
    "\n",
    "model.compile(optimizer='adam', loss='mae')\n",
    "\n",
    "history = model.fit(x=x_train, y=y_train, epochs=50, validation_data=(x_val, y_val), verbose=2)"
   ]
  },
  {
   "cell_type": "code",
   "execution_count": 48,
   "metadata": {},
   "outputs": [
    {
     "data": {
      "text/plain": [
       "[<matplotlib.lines.Line2D at 0x1933c3c9e48>]"
      ]
     },
     "execution_count": 48,
     "metadata": {},
     "output_type": "execute_result"
    },
    {
     "data": {
      "image/png": "[encoded data removed]",
      "text/plain": [
       "<Figure size 432x288 with 1 Axes>"
      ]
     },
     "metadata": {
      "needs_background": "light"
     },
     "output_type": "display_data"
    }
   ],
   "source": [
    "epochs = range(len(history.history['loss']))\n",
    "plt.plot(epochs, history.history['loss'])\n",
    "plt.plot(epochs, history.history['val_loss'])"
   ]
  },
  {
   "cell_type": "code",
   "execution_count": 49,
   "metadata": {},
   "outputs": [
    {
     "data": {
      "text/plain": [
       "[<matplotlib.lines.Line2D at 0x1933c39be10>]"
      ]
     },
     "execution_count": 49,
     "metadata": {},
     "output_type": "execute_result"
    },
    {
     "data": {
      "image/png": "[encoded data removed]",
      "text/plain": [
       "<Figure size 432x288 with 1 Axes>"
      ]
     },
     "metadata": {
      "needs_background": "light"
     },
     "output_type": "display_data"
    }
   ],
   "source": [
    "plt.plot(epochs[5:], history.history['loss'][5:])\n",
    "plt.plot(epochs[5:], history.history['val_loss'][5:])"
   ]
  },
  {
   "cell_type": "code",
   "execution_count": 50,
   "metadata": {},
   "outputs": [],
   "source": [
    "# helper fucntions included from tensorflow.org\n",
    "def create_time_steps(length):\n",
    "    return list(range(-length, 0))\n",
    "\n",
    "def show_plot(plot_data, delta, title):\n",
    "    labels = ['History', 'True Future', 'Model Prediction']\n",
    "    marker = ['.-', 'rx', 'go']\n",
    "    \n",
    "    time_steps = create_time_steps(plot_data[0].shape[0]) \n",
    "    \n",
    "    if delta:\n",
    "        future = delta\n",
    "    else:\n",
    "        future = 0\n",
    "\n",
    "    plt.title(title)\n",
    "    for i, x in enumerate(plot_data):\n",
    "        if i:\n",
    "            \n",
    "            plt.plot(future, plot_data[i], marker[i], markersize=10,\n",
    "               label=labels[i])\n",
    "        else:\n",
    "            plt.plot(time_steps, plot_data[i].flatten(), marker[i], label=labels[i])\n",
    "    plt.legend()\n",
    "    plt.xlim([time_steps[0], (future+5)*2])\n",
    "    plt.xlabel('Time-Step')\n",
    "    return plt"
   ]
  },
  {
   "cell_type": "code",
   "execution_count": 51,
   "metadata": {},
   "outputs": [],
   "source": [
    "def forecast(model, inputs, target, indx):\n",
    "    \n",
    "    preds = model.predict(inputs)\n",
    "    \n",
    "    x = inputs[indx, :, 0].reshape((inputs.shape[1], 1))\n",
    "    \n",
    "    plot = show_plot([x, target[indx],\n",
    "                    preds[indx]], 0, 'Simple LSTM model')\n",
    "    plot.show()"
   ]
  },
  {
   "cell_type": "code",
   "execution_count": 52,
   "metadata": {},
   "outputs": [
    {
     "data": {
      "image/png": "[encoded data removed]",
      "text/plain": [
       "<Figure size 432x288 with 1 Axes>"
      ]
     },
     "metadata": {
      "needs_background": "light"
     },
     "output_type": "display_data"
    }
   ],
   "source": [
    "forecast(model, x_val, y_val, 11)"
   ]
  },
  {
   "cell_type": "code",
   "execution_count": null,
   "metadata": {},
   "outputs": [],
   "source": []
  }
 ],
 "metadata": {
  "kernelspec": {
   "display_name": "Python 3",
   "language": "python",
   "name": "python3"
  },
  "language_info": {
   "codemirror_mode": {
    "name": "ipython",
    "version": 3
   },
   "file_extension": ".py",
   "mimetype": "text/x-python",
   "name": "python",
   "nbconvert_exporter": "python",
   "pygments_lexer": "ipython3",
   "version": "3.6.5"
  }
 },
 "nbformat": 4,
 "nbformat_minor": 4
}
